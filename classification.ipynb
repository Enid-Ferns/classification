{
 "cells": [
  {
   "cell_type": "code",
   "execution_count": 1,
   "id": "1edc6d6d",
   "metadata": {},
   "outputs": [],
   "source": [
    "# MNIST DATASET"
   ]
  },
  {
   "cell_type": "code",
   "execution_count": 2,
   "id": "85bbb7db",
   "metadata": {},
   "outputs": [],
   "source": [
    "from sklearn.datasets import fetch_openml\n",
    "import pandas as pd\n",
    "import numpy as np"
   ]
  },
  {
   "cell_type": "code",
   "execution_count": 3,
   "id": "5a863445",
   "metadata": {},
   "outputs": [
    {
     "name": "stderr",
     "output_type": "stream",
     "text": [
      "c:\\Users\\FernaE03\\AppData\\Local\\anaconda3\\lib\\site-packages\\sklearn\\datasets\\_openml.py:932: FutureWarning: The default value of `parser` will change from `'liac-arff'` to `'auto'` in 1.4. You can set `parser='auto'` to silence this warning. Therefore, an `ImportError` will be raised from 1.4 if the dataset is dense and pandas is not installed. Note that the pandas parser may return different data types. See the Notes Section in fetch_openml's API doc for details.\n",
      "  warn(\n"
     ]
    }
   ],
   "source": [
    "mnist = fetch_openml('mnist_784', version = 1)"
   ]
  },
  {
   "cell_type": "code",
   "execution_count": 4,
   "id": "31392c90",
   "metadata": {},
   "outputs": [
    {
     "data": {
      "text/plain": [
       "dict_keys(['data', 'target', 'frame', 'categories', 'feature_names', 'target_names', 'DESCR', 'details', 'url'])"
      ]
     },
     "execution_count": 4,
     "metadata": {},
     "output_type": "execute_result"
    }
   ],
   "source": [
    "mnist.keys()"
   ]
  },
  {
   "cell_type": "code",
   "execution_count": 5,
   "id": "0370f61a",
   "metadata": {},
   "outputs": [
    {
     "name": "stdout",
     "output_type": "stream",
     "text": [
      "(70000, 784) -> X shape \n",
      " (70000,) -> Y shape\n"
     ]
    }
   ],
   "source": [
    "X, Y = mnist[\"data\"], mnist[\"target\"]\n",
    "print(X.shape,\"-> X shape \\n\",Y.shape,\"-> Y shape\")"
   ]
  },
  {
   "cell_type": "code",
   "execution_count": 6,
   "id": "edc5d268",
   "metadata": {},
   "outputs": [
    {
     "data": {
      "text/plain": [
       "pandas.core.frame.DataFrame"
      ]
     },
     "execution_count": 6,
     "metadata": {},
     "output_type": "execute_result"
    }
   ],
   "source": [
    "type(X)"
   ]
  },
  {
   "cell_type": "code",
   "execution_count": 7,
   "id": "7991d6a0",
   "metadata": {},
   "outputs": [],
   "source": [
    "X1 = X.iloc[0]"
   ]
  },
  {
   "cell_type": "code",
   "execution_count": 8,
   "id": "56441cbc",
   "metadata": {},
   "outputs": [
    {
     "data": {
      "text/plain": [
       "(784,)"
      ]
     },
     "execution_count": 8,
     "metadata": {},
     "output_type": "execute_result"
    }
   ],
   "source": [
    "X1.shape"
   ]
  },
  {
   "cell_type": "markdown",
   "id": "ee7a05c7",
   "metadata": {},
   "source": [
    "\n",
    "image = row.values.reshape(28, 28)  # if row is a pandas Series\n",
    "# or\n",
    "image = row.reshape(28, 28)         # if row is a NumPy array\n"
   ]
  },
  {
   "cell_type": "code",
   "execution_count": 9,
   "id": "5f6d1bb2",
   "metadata": {},
   "outputs": [],
   "source": [
    "import matplotlib.pyplot as plt\n",
    "import seaborn as sns\n",
    "\n",
    "X1 = X1.values.reshape(28,28)"
   ]
  },
  {
   "cell_type": "code",
   "execution_count": 10,
   "id": "8bce1b36",
   "metadata": {},
   "outputs": [
    {
     "data": {
      "image/png": "[encoded data removed]",
      "text/plain": [
       "<Figure size 640x480 with 2 Axes>"
      ]
     },
     "metadata": {},
     "output_type": "display_data"
    }
   ],
   "source": [
    "# subplots\n",
    "\n",
    "plt.subplot(1,2,1)   # subplot 1 in rows_tot x cols_tot\n",
    "plt.imshow(X1)\n",
    "\n",
    "plt.subplot(1,2,2)\n",
    "plt.imshow(X1, cmap='binary')\n",
    "plt.axis('off')\n",
    "\n",
    "plt.tight_layout()\n",
    "plt.show()\n",
    "\n",
    "\n",
    "\n",
    "# import seaborn_image as isns\n",
    "# # method2\n",
    "# fig, axes = plt.subplots(1,2, figsize=(10,8))\n",
    "# seaborn_image.imshow(X1, ax=axes[0])\n",
    "# axes[0].set_title(\"img1\")\n",
    "# seaborn_image.imshow(X1, ax=axes[1])\n",
    "# axes[1].set_title(\"img2\")\n",
    "# plt.tight_layout()\n",
    "# plt.show()"
   ]
  },
  {
   "cell_type": "code",
   "execution_count": 11,
   "id": "2fd2241f",
   "metadata": {},
   "outputs": [
    {
     "data": {
      "text/plain": [
       "'5'"
      ]
     },
     "execution_count": 11,
     "metadata": {},
     "output_type": "execute_result"
    }
   ],
   "source": [
    "Y.iloc[0]"
   ]
  },
  {
   "cell_type": "code",
   "execution_count": 15,
   "id": "55cf8bf4",
   "metadata": {},
   "outputs": [],
   "source": [
    "y = Y.astype(np.int8)"
   ]
  },
  {
   "cell_type": "code",
   "execution_count": 17,
   "id": "2dadebf3",
   "metadata": {},
   "outputs": [
    {
     "data": {
      "application/vnd.microsoft.datawrangler.viewer.v0+json": {
       "columns": [
        {
         "name": "index",
         "rawType": "int64",
         "type": "integer"
        },
        {
         "name": "class",
         "rawType": "category",
         "type": "unknown"
        }
       ],
       "ref": "ca55b4bd-5851-4ef6-b4cd-96381f0cba8c",
       "rows": [
        [
         "0",
         "5"
        ],
        [
         "1",
         "0"
        ],
        [
         "2",
         "4"
        ],
        [
         "3",
         "1"
        ],
        [
         "4",
         "9"
        ],
        [
         "5",
         "2"
        ],
        [
         "6",
         "1"
        ],
        [
         "7",
         "3"
        ],
        [
         "8",
         "1"
        ],
        [
         "9",
         "4"
        ],
        [
         "10",
         "3"
        ],
        [
         "11",
         "5"
        ],
        [
         "12",
         "3"
        ],
        [
         "13",
         "6"
        ],
        [
         "14",
         "1"
        ],
        [
         "15",
         "7"
        ],
        [
         "16",
         "2"
        ],
        [
         "17",
         "8"
        ],
        [
         "18",
         "6"
        ],
        [
         "19",
         "9"
        ],
        [
         "20",
         "4"
        ],
        [
         "21",
         "0"
        ],
        [
         "22",
         "9"
        ],
        [
         "23",
         "1"
        ],
        [
         "24",
         "1"
        ],
        [
         "25",
         "2"
        ],
        [
         "26",
         "4"
        ],
        [
         "27",
         "3"
        ],
        [
         "28",
         "2"
        ],
        [
         "29",
         "7"
        ],
        [
         "30",
         "3"
        ],
        [
         "31",
         "8"
        ],
        [
         "32",
         "6"
        ],
        [
         "33",
         "9"
        ],
        [
         "34",
         "0"
        ],
        [
         "35",
         "5"
        ],
        [
         "36",
         "6"
        ],
        [
         "37",
         "0"
        ],
        [
         "38",
         "7"
        ],
        [
         "39",
         "6"
        ],
        [
         "40",
         "1"
        ],
        [
         "41",
         "8"
        ],
        [
         "42",
         "7"
        ],
        [
         "43",
         "9"
        ],
        [
         "44",
         "3"
        ],
        [
         "45",
         "9"
        ],
        [
         "46",
         "8"
        ],
        [
         "47",
         "5"
        ],
        [
         "48",
         "9"
        ],
        [
         "49",
         "3"
        ]
       ],
       "shape": {
        "columns": 1,
        "rows": 70000
       }
      },
      "text/plain": [
       "0        5\n",
       "1        0\n",
       "2        4\n",
       "3        1\n",
       "4        9\n",
       "        ..\n",
       "69995    2\n",
       "69996    3\n",
       "69997    4\n",
       "69998    5\n",
       "69999    6\n",
       "Name: class, Length: 70000, dtype: category\n",
       "Categories (10, object): ['0', '1', '2', '3', ..., '6', '7', '8', '9']"
      ]
     },
     "execution_count": 17,
     "metadata": {},
     "output_type": "execute_result"
    }
   ],
   "source": [
    "Y"
   ]
  },
  {
   "cell_type": "code",
   "execution_count": 16,
   "id": "14103ead",
   "metadata": {},
   "outputs": [
    {
     "data": {
      "application/vnd.microsoft.datawrangler.viewer.v0+json": {
       "columns": [
        {
         "name": "index",
         "rawType": "int64",
         "type": "integer"
        },
        {
         "name": "class",
         "rawType": "int8",
         "type": "integer"
        }
       ],
       "ref": "4cb53357-878a-4c5b-ae88-883763256f19",
       "rows": [
        [
         "0",
         "5"
        ],
        [
         "1",
         "0"
        ],
        [
         "2",
         "4"
        ],
        [
         "3",
         "1"
        ],
        [
         "4",
         "9"
        ],
        [
         "5",
         "2"
        ],
        [
         "6",
         "1"
        ],
        [
         "7",
         "3"
        ],
        [
         "8",
         "1"
        ],
        [
         "9",
         "4"
        ],
        [
         "10",
         "3"
        ],
        [
         "11",
         "5"
        ],
        [
         "12",
         "3"
        ],
        [
         "13",
         "6"
        ],
        [
         "14",
         "1"
        ],
        [
         "15",
         "7"
        ],
        [
         "16",
         "2"
        ],
        [
         "17",
         "8"
        ],
        [
         "18",
         "6"
        ],
        [
         "19",
         "9"
        ],
        [
         "20",
         "4"
        ],
        [
         "21",
         "0"
        ],
        [
         "22",
         "9"
        ],
        [
         "23",
         "1"
        ],
        [
         "24",
         "1"
        ],
        [
         "25",
         "2"
        ],
        [
         "26",
         "4"
        ],
        [
         "27",
         "3"
        ],
        [
         "28",
         "2"
        ],
        [
         "29",
         "7"
        ],
        [
         "30",
         "3"
        ],
        [
         "31",
         "8"
        ],
        [
         "32",
         "6"
        ],
        [
         "33",
         "9"
        ],
        [
         "34",
         "0"
        ],
        [
         "35",
         "5"
        ],
        [
         "36",
         "6"
        ],
        [
         "37",
         "0"
        ],
        [
         "38",
         "7"
        ],
        [
         "39",
         "6"
        ],
        [
         "40",
         "1"
        ],
        [
         "41",
         "8"
        ],
        [
         "42",
         "7"
        ],
        [
         "43",
         "9"
        ],
        [
         "44",
         "3"
        ],
        [
         "45",
         "9"
        ],
        [
         "46",
         "8"
        ],
        [
         "47",
         "5"
        ],
        [
         "48",
         "9"
        ],
        [
         "49",
         "3"
        ]
       ],
       "shape": {
        "columns": 1,
        "rows": 70000
       }
      },
      "text/plain": [
       "0        5\n",
       "1        0\n",
       "2        4\n",
       "3        1\n",
       "4        9\n",
       "        ..\n",
       "69995    2\n",
       "69996    3\n",
       "69997    4\n",
       "69998    5\n",
       "69999    6\n",
       "Name: class, Length: 70000, dtype: int8"
      ]
     },
     "execution_count": 16,
     "metadata": {},
     "output_type": "execute_result"
    }
   ],
   "source": [
    "y"
   ]
  },
  {
   "cell_type": "code",
   "execution_count": 18,
   "id": "541181bd",
   "metadata": {},
   "outputs": [],
   "source": [
    "X_train, X_test, Y_train, Y_test = X[:60000],Y[:60000], X[60000:],Y[60000:]"
   ]
  },
  {
   "cell_type": "code",
   "execution_count": null,
   "id": "7f9b72cb",
   "metadata": {},
   "outputs": [],
   "source": []
  },
  {
   "cell_type": "code",
   "execution_count": 19,
   "id": "6e1a2667",
   "metadata": {},
   "outputs": [],
   "source": [
    "# cross validation\n"
   ]
  },
  {
   "cell_type": "code",
   "execution_count": null,
   "id": "bd897de0",
   "metadata": {},
   "outputs": [],
   "source": []
  }
 ],
 "metadata": {
  "kernelspec": {
   "display_name": "base",
   "language": "python",
   "name": "python3"
  },
  "language_info": {
   "codemirror_mode": {
    "name": "ipython",
    "version": 3
   },
   "file_extension": ".py",
   "mimetype": "text/x-python",
   "name": "python",
   "nbconvert_exporter": "python",
   "pygments_lexer": "ipython3",
   "version": "3.10.9"
  }
 },
 "nbformat": 4,
 "nbformat_minor": 5
}
