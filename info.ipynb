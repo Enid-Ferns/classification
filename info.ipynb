{
 "cells": [
  {
   "cell_type": "code",
   "execution_count": 1,
   "id": "eb86f01c",
   "metadata": {},
   "outputs": [],
   "source": [
    "# uv init name\n",
    "# git add .\n",
    "# git commit -m \"\"\n",
    "\n",
    "# first time - push to remote\n",
    "# git remote add origin https://github.com/Enid-Ferns/classification.git\n",
    "# git push -u origin main"
   ]
  },
  {
   "cell_type": "markdown",
   "id": "47c431fb",
   "metadata": {},
   "source": [
    "    uv init      --lib default –app                                   --bare -> only creates toml file\n",
    "    uv run main.py\n",
    "    uv add package\n",
    "    uv add -r requirements.txt\n",
    "    uv remove package"
   ]
  }
 ],
 "metadata": {
  "kernelspec": {
   "display_name": "base",
   "language": "python",
   "name": "python3"
  },
  "language_info": {
   "codemirror_mode": {
    "name": "ipython",
    "version": 3
   },
   "file_extension": ".py",
   "mimetype": "text/x-python",
   "name": "python",
   "nbconvert_exporter": "python",
   "pygments_lexer": "ipython3",
   "version": "3.10.9"
  }
 },
 "nbformat": 4,
 "nbformat_minor": 5
}
